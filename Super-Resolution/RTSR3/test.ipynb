{
 "cells": [
  {
   "cell_type": "code",
   "execution_count": 1,
   "id": "7f5fc3c8",
   "metadata": {},
   "outputs": [
    {
     "name": "stderr",
     "output_type": "stream",
     "text": [
      "W0825 17:36:07.096837 15112 gpu_resources.cc:61] Please NOTE: device: 0, GPU Compute Capability: 7.5, Driver API Version: 11.7, Runtime API Version: 11.6\n",
      "W0825 17:36:07.099853 15112 gpu_resources.cc:91] device: 0, cuDNN Version: 8.4.\n"
     ]
    },
    {
     "name": "stdout",
     "output_type": "stream",
     "text": [
      "-----------------------------------------------------------------------------------------------------------------\n",
      "  Layer (type)        Input Shape                            Output Shape                           Param #    \n",
      "=================================================================================================================\n",
      "TranslatedLayer-1  [[1, 3, 180, 390]]  [[1, 3, 360, 780], [1, 32, 180, 390], [1, 32, 180, 390]]     116,492    \n",
      "=================================================================================================================\n",
      "Total params: 116,492\n",
      "Trainable params: 116,492\n",
      "Non-trainable params: 0\n",
      "-----------------------------------------------------------------------------------------------------------------\n",
      "Input size (MB): 0.80\n",
      "Forward/backward pass size (MB): 40.70\n",
      "Params size (MB): 0.44\n",
      "Estimated Total Size (MB): 41.95\n",
      "-----------------------------------------------------------------------------------------------------------------\n",
      "\n",
      "{'total_params': 116492, 'trainable_params': 116492}\n"
     ]
    },
    {
     "name": "stderr",
     "output_type": "stream",
     "text": [
      "qt.qpa.xcb: failed to initialize XRandr\n",
      "qt.qpa.xcb: XKeyboard extension not present on the X server\n"
     ]
    }
   ],
   "source": [
    "import paddle, cv2, time\n",
    "import numpy as np\n",
    "\n",
    "rtsr3 = paddle.jit.load(\"jit.save/rtsr3\")\n",
    "rtsr3.eval()\n",
    "params_info = paddle.summary(rtsr3,(1, 3, 180, 390))\n",
    "print(params_info)\n",
    "\n",
    "def psnr(x,y):\n",
    "    mse = np.mean(np.square(x-y))\n",
    "    psnr = 10*np.log10(255*255/mse)\n",
    "    return psnr\n",
    "\n",
    "capture=cv2.VideoCapture('../data/1080.mp4')\n",
    "fs = 0\n",
    "\n",
    "while(True):\n",
    "    fs += 1\n",
    "    ref,frame=capture.read()\n",
    "    if ref:\n",
    "        # cut\n",
    "        frame = frame[360:720,780:1560,:]\n",
    "        # copy to calculate psnr\n",
    "        infra = frame\n",
    "        if fs == 1:\n",
    "            # out >> .mp4\n",
    "            out = cv2.VideoWriter('doc/out.mp4', cv2.VideoWriter_fourcc(*'mp4v'), 30, (frame.shape[1],2*frame.shape[0]))\n",
    "            # t0 = time.time()\n",
    "\n",
    "        # RTSR3: resize to LR (input)\n",
    "        frame = cv2.resize(frame, (390,180))\n",
    "        frame = frame.astype('float32').transpose((2,0,1))\n",
    "        frame = np.array([frame])\n",
    "        pred = rtsr3(frame)[0][0]\n",
    "        pred = pred.numpy()\n",
    "        pred = pred.transpose((1,2,0))\n",
    "        pred = np.uint8(pred)\n",
    "        pred = pred.copy()\n",
    "        # pred = cv2.putText(pred, \"PSNR=%.2f\"%(psnr(pred,infra)), (600, 30), cv2.FONT_HERSHEY_SIMPLEX, 1, (0, 255, 0), 2)\n",
    "        pred = cv2.putText(pred, \"RTSR3\", (0, 30), cv2.FONT_HERSHEY_SIMPLEX, 1, (0, 255, 0), 2)\n",
    "        if fs == 200:\n",
    "            cv2.imwrite(\"doc/out_rtsr3.png\", pred)\n",
    "        # t1 = time.time()\n",
    "        # pred = cv2.putText(pred, \"fps= %.2f\"%(1/((t1 - t0)/fs)), (0, 350), cv2.FONT_HERSHEY_SIMPLEX, 1, (0, 255, 0), 2)\n",
    "\n",
    "        # resize input to bilinear\n",
    "        frame = frame[0].transpose((1,2,0))\n",
    "        frame = cv2.resize(frame,(780,360),interpolation=cv2.INTER_LINEAR)\n",
    "        frame = np.uint8(frame)\n",
    "        frame = frame.copy()\n",
    "        # frame = cv2.putText(frame, \"PSNR=%.2f\"%(psnr(frame,infra)), (600, 30), cv2.FONT_HERSHEY_SIMPLEX, 1, (0, 255, 0), 2)\n",
    "        frame = cv2.putText(frame, \"Bilinear\", (0, 30), cv2.FONT_HERSHEY_SIMPLEX, 1, (0, 255, 0), 2)\n",
    "        if fs == 200:\n",
    "            cv2.imwrite(\"doc/out_bilinear.png\", frame)\n",
    "        # t2 = time.time()\n",
    "        # frame = cv2.putText(frame, \"fps= %.2f\"%(1/(t2-t1)), (0, 350), cv2.FONT_HERSHEY_SIMPLEX, 1, (0, 255, 0), 2)\n",
    "\n",
    "        # concat the bilinear and HR together\n",
    "        outframe = np.concatenate((frame,pred), axis=0)\n",
    "        outframe = outframe.copy()\n",
    "        cv2.imshow(\"video\",outframe)\n",
    "        out.write(outframe)\n",
    "        c= cv2.waitKey(1) & 0xff \n",
    "        if c==27:\n",
    "            capture.release()\n",
    "            out.release()\n",
    "            break\n",
    "    else:\n",
    "        break"
   ]
  }
 ],
 "metadata": {
  "kernelspec": {
   "display_name": "Python 3 (ipykernel)",
   "language": "python",
   "name": "python3"
  },
  "language_info": {
   "codemirror_mode": {
    "name": "ipython",
    "version": 3
   },
   "file_extension": ".py",
   "mimetype": "text/x-python",
   "name": "python",
   "nbconvert_exporter": "python",
   "pygments_lexer": "ipython3",
   "version": "3.8.13"
  }
 },
 "nbformat": 4,
 "nbformat_minor": 5
}
